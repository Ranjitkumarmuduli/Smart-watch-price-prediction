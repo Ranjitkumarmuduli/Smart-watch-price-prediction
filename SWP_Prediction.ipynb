{
  "nbformat": 4,
  "nbformat_minor": 0,
  "metadata": {
    "colab": {
      "provenance": [],
      "authorship_tag": "ABX9TyPFmCXIOU9+p2Cm97nfcb9M",
      "include_colab_link": true
    },
    "kernelspec": {
      "name": "python3",
      "display_name": "Python 3"
    },
    "language_info": {
      "name": "python"
    }
  },
  "cells": [
    {
      "cell_type": "markdown",
      "metadata": {
        "id": "view-in-github",
        "colab_type": "text"
      },
      "source": [
        "<a href=\"https://colab.research.google.com/github/Ranjitkumarmuduli/Smart-watch-price-prediction/blob/main/SWP_Prediction.ipynb\" target=\"_parent\"><img src=\"https://colab.research.google.com/assets/colab-badge.svg\" alt=\"Open In Colab\"/></a>"
      ]
    },
    {
      "cell_type": "markdown",
      "source": [
        "#Importing libraries and dataset."
      ],
      "metadata": {
        "id": "Qs-bW_N0ZZ0i"
      }
    },
    {
      "cell_type": "code",
      "execution_count": 20,
      "metadata": {
        "id": "QnZ9II_e959s"
      },
      "outputs": [],
      "source": [
        "import pandas as pd\n",
        "import numpy as np\n",
        "import matplotlib.pyplot as plt\n",
        "import seaborn as sns\n",
        "%matplotlib inline"
      ]
    },
    {
      "cell_type": "code",
      "source": [
        "#mounting drive\n",
        "from google.colab import drive\n",
        "drive.mount('/content/drive')"
      ],
      "metadata": {
        "colab": {
          "base_uri": "https://localhost:8080/"
        },
        "id": "MdqpcZaqYgyy",
        "outputId": "46f9d381-8dd5-4dc6-dee1-6d9adae4de7c"
      },
      "execution_count": 21,
      "outputs": [
        {
          "output_type": "stream",
          "name": "stdout",
          "text": [
            "Drive already mounted at /content/drive; to attempt to forcibly remount, call drive.mount(\"/content/drive\", force_remount=True).\n"
          ]
        }
      ]
    },
    {
      "cell_type": "code",
      "source": [
        "#dataset path\n",
        "path='/content/drive/MyDrive/Smart Watch Price Prediction/Smart watch prices.csv'"
      ],
      "metadata": {
        "id": "0iH90x6PYc3K"
      },
      "execution_count": 22,
      "outputs": []
    },
    {
      "cell_type": "code",
      "source": [
        "#Read csv file\n",
        "df=pd.read_csv(path)"
      ],
      "metadata": {
        "id": "Qy8JJ3Y6Yu9t"
      },
      "execution_count": 23,
      "outputs": []
    },
    {
      "cell_type": "code",
      "source": [
        "#First Five rows of the dataset\n",
        "df.head()"
      ],
      "metadata": {
        "colab": {
          "base_uri": "https://localhost:8080/",
          "height": 0
        },
        "id": "ylsrICJ-Yzvh",
        "outputId": "01181033-6bfd-4fae-ad8e-e48cf110d186"
      },
      "execution_count": 24,
      "outputs": [
        {
          "output_type": "execute_result",
          "data": {
            "text/plain": [
              "     Brand           Model Operating System                Connectivity  \\\n",
              "0    Apple  Watch Series 7          watchOS  Bluetooth, Wi-Fi, Cellular   \n",
              "1  Samsung  Galaxy Watch 4          Wear OS  Bluetooth, Wi-Fi, Cellular   \n",
              "2   Garmin          Venu 2        Garmin OS            Bluetooth, Wi-Fi   \n",
              "3   Fitbit         Versa 3        Fitbit OS            Bluetooth, Wi-Fi   \n",
              "4   Fossil           Gen 6          Wear OS            Bluetooth, Wi-Fi   \n",
              "\n",
              "  Display Type  Display Size (inches) Resolution Water Resistance (meters)  \\\n",
              "0       Retina                   1.90  396 x 484                        50   \n",
              "1       AMOLED                   1.40  450 x 450                        50   \n",
              "2       AMOLED                   1.30  416 x 416                        50   \n",
              "3       AMOLED                   1.58  336 x 336                        50   \n",
              "4       AMOLED                   1.28  416 x 416                        30   \n",
              "\n",
              "  Battery Life (days) Heart Rate Monitor  GPS  NFC Price (USD)  \n",
              "0                  18                Yes  Yes  Yes       $399   \n",
              "1                  40                Yes  Yes  Yes       $249   \n",
              "2                  11                Yes  Yes   No       $399   \n",
              "3                   6                Yes  Yes  Yes       $229   \n",
              "4                  24                Yes  Yes  Yes       $299   "
            ],
            "text/html": [
              "\n",
              "  <div id=\"df-797a5a39-36e0-419d-984a-20493f573499\">\n",
              "    <div class=\"colab-df-container\">\n",
              "      <div>\n",
              "<style scoped>\n",
              "    .dataframe tbody tr th:only-of-type {\n",
              "        vertical-align: middle;\n",
              "    }\n",
              "\n",
              "    .dataframe tbody tr th {\n",
              "        vertical-align: top;\n",
              "    }\n",
              "\n",
              "    .dataframe thead th {\n",
              "        text-align: right;\n",
              "    }\n",
              "</style>\n",
              "<table border=\"1\" class=\"dataframe\">\n",
              "  <thead>\n",
              "    <tr style=\"text-align: right;\">\n",
              "      <th></th>\n",
              "      <th>Brand</th>\n",
              "      <th>Model</th>\n",
              "      <th>Operating System</th>\n",
              "      <th>Connectivity</th>\n",
              "      <th>Display Type</th>\n",
              "      <th>Display Size (inches)</th>\n",
              "      <th>Resolution</th>\n",
              "      <th>Water Resistance (meters)</th>\n",
              "      <th>Battery Life (days)</th>\n",
              "      <th>Heart Rate Monitor</th>\n",
              "      <th>GPS</th>\n",
              "      <th>NFC</th>\n",
              "      <th>Price (USD)</th>\n",
              "    </tr>\n",
              "  </thead>\n",
              "  <tbody>\n",
              "    <tr>\n",
              "      <th>0</th>\n",
              "      <td>Apple</td>\n",
              "      <td>Watch Series 7</td>\n",
              "      <td>watchOS</td>\n",
              "      <td>Bluetooth, Wi-Fi, Cellular</td>\n",
              "      <td>Retina</td>\n",
              "      <td>1.90</td>\n",
              "      <td>396 x 484</td>\n",
              "      <td>50</td>\n",
              "      <td>18</td>\n",
              "      <td>Yes</td>\n",
              "      <td>Yes</td>\n",
              "      <td>Yes</td>\n",
              "      <td>$399</td>\n",
              "    </tr>\n",
              "    <tr>\n",
              "      <th>1</th>\n",
              "      <td>Samsung</td>\n",
              "      <td>Galaxy Watch 4</td>\n",
              "      <td>Wear OS</td>\n",
              "      <td>Bluetooth, Wi-Fi, Cellular</td>\n",
              "      <td>AMOLED</td>\n",
              "      <td>1.40</td>\n",
              "      <td>450 x 450</td>\n",
              "      <td>50</td>\n",
              "      <td>40</td>\n",
              "      <td>Yes</td>\n",
              "      <td>Yes</td>\n",
              "      <td>Yes</td>\n",
              "      <td>$249</td>\n",
              "    </tr>\n",
              "    <tr>\n",
              "      <th>2</th>\n",
              "      <td>Garmin</td>\n",
              "      <td>Venu 2</td>\n",
              "      <td>Garmin OS</td>\n",
              "      <td>Bluetooth, Wi-Fi</td>\n",
              "      <td>AMOLED</td>\n",
              "      <td>1.30</td>\n",
              "      <td>416 x 416</td>\n",
              "      <td>50</td>\n",
              "      <td>11</td>\n",
              "      <td>Yes</td>\n",
              "      <td>Yes</td>\n",
              "      <td>No</td>\n",
              "      <td>$399</td>\n",
              "    </tr>\n",
              "    <tr>\n",
              "      <th>3</th>\n",
              "      <td>Fitbit</td>\n",
              "      <td>Versa 3</td>\n",
              "      <td>Fitbit OS</td>\n",
              "      <td>Bluetooth, Wi-Fi</td>\n",
              "      <td>AMOLED</td>\n",
              "      <td>1.58</td>\n",
              "      <td>336 x 336</td>\n",
              "      <td>50</td>\n",
              "      <td>6</td>\n",
              "      <td>Yes</td>\n",
              "      <td>Yes</td>\n",
              "      <td>Yes</td>\n",
              "      <td>$229</td>\n",
              "    </tr>\n",
              "    <tr>\n",
              "      <th>4</th>\n",
              "      <td>Fossil</td>\n",
              "      <td>Gen 6</td>\n",
              "      <td>Wear OS</td>\n",
              "      <td>Bluetooth, Wi-Fi</td>\n",
              "      <td>AMOLED</td>\n",
              "      <td>1.28</td>\n",
              "      <td>416 x 416</td>\n",
              "      <td>30</td>\n",
              "      <td>24</td>\n",
              "      <td>Yes</td>\n",
              "      <td>Yes</td>\n",
              "      <td>Yes</td>\n",
              "      <td>$299</td>\n",
              "    </tr>\n",
              "  </tbody>\n",
              "</table>\n",
              "</div>\n",
              "      <button class=\"colab-df-convert\" onclick=\"convertToInteractive('df-797a5a39-36e0-419d-984a-20493f573499')\"\n",
              "              title=\"Convert this dataframe to an interactive table.\"\n",
              "              style=\"display:none;\">\n",
              "        \n",
              "  <svg xmlns=\"http://www.w3.org/2000/svg\" height=\"24px\"viewBox=\"0 0 24 24\"\n",
              "       width=\"24px\">\n",
              "    <path d=\"M0 0h24v24H0V0z\" fill=\"none\"/>\n",
              "    <path d=\"M18.56 5.44l.94 2.06.94-2.06 2.06-.94-2.06-.94-.94-2.06-.94 2.06-2.06.94zm-11 1L8.5 8.5l.94-2.06 2.06-.94-2.06-.94L8.5 2.5l-.94 2.06-2.06.94zm10 10l.94 2.06.94-2.06 2.06-.94-2.06-.94-.94-2.06-.94 2.06-2.06.94z\"/><path d=\"M17.41 7.96l-1.37-1.37c-.4-.4-.92-.59-1.43-.59-.52 0-1.04.2-1.43.59L10.3 9.45l-7.72 7.72c-.78.78-.78 2.05 0 2.83L4 21.41c.39.39.9.59 1.41.59.51 0 1.02-.2 1.41-.59l7.78-7.78 2.81-2.81c.8-.78.8-2.07 0-2.86zM5.41 20L4 18.59l7.72-7.72 1.47 1.35L5.41 20z\"/>\n",
              "  </svg>\n",
              "      </button>\n",
              "      \n",
              "  <style>\n",
              "    .colab-df-container {\n",
              "      display:flex;\n",
              "      flex-wrap:wrap;\n",
              "      gap: 12px;\n",
              "    }\n",
              "\n",
              "    .colab-df-convert {\n",
              "      background-color: #E8F0FE;\n",
              "      border: none;\n",
              "      border-radius: 50%;\n",
              "      cursor: pointer;\n",
              "      display: none;\n",
              "      fill: #1967D2;\n",
              "      height: 32px;\n",
              "      padding: 0 0 0 0;\n",
              "      width: 32px;\n",
              "    }\n",
              "\n",
              "    .colab-df-convert:hover {\n",
              "      background-color: #E2EBFA;\n",
              "      box-shadow: 0px 1px 2px rgba(60, 64, 67, 0.3), 0px 1px 3px 1px rgba(60, 64, 67, 0.15);\n",
              "      fill: #174EA6;\n",
              "    }\n",
              "\n",
              "    [theme=dark] .colab-df-convert {\n",
              "      background-color: #3B4455;\n",
              "      fill: #D2E3FC;\n",
              "    }\n",
              "\n",
              "    [theme=dark] .colab-df-convert:hover {\n",
              "      background-color: #434B5C;\n",
              "      box-shadow: 0px 1px 3px 1px rgba(0, 0, 0, 0.15);\n",
              "      filter: drop-shadow(0px 1px 2px rgba(0, 0, 0, 0.3));\n",
              "      fill: #FFFFFF;\n",
              "    }\n",
              "  </style>\n",
              "\n",
              "      <script>\n",
              "        const buttonEl =\n",
              "          document.querySelector('#df-797a5a39-36e0-419d-984a-20493f573499 button.colab-df-convert');\n",
              "        buttonEl.style.display =\n",
              "          google.colab.kernel.accessAllowed ? 'block' : 'none';\n",
              "\n",
              "        async function convertToInteractive(key) {\n",
              "          const element = document.querySelector('#df-797a5a39-36e0-419d-984a-20493f573499');\n",
              "          const dataTable =\n",
              "            await google.colab.kernel.invokeFunction('convertToInteractive',\n",
              "                                                     [key], {});\n",
              "          if (!dataTable) return;\n",
              "\n",
              "          const docLinkHtml = 'Like what you see? Visit the ' +\n",
              "            '<a target=\"_blank\" href=https://colab.research.google.com/notebooks/data_table.ipynb>data table notebook</a>'\n",
              "            + ' to learn more about interactive tables.';\n",
              "          element.innerHTML = '';\n",
              "          dataTable['output_type'] = 'display_data';\n",
              "          await google.colab.output.renderOutput(dataTable, element);\n",
              "          const docLink = document.createElement('div');\n",
              "          docLink.innerHTML = docLinkHtml;\n",
              "          element.appendChild(docLink);\n",
              "        }\n",
              "      </script>\n",
              "    </div>\n",
              "  </div>\n",
              "  "
            ]
          },
          "metadata": {},
          "execution_count": 24
        }
      ]
    },
    {
      "cell_type": "code",
      "source": [
        "#Last Five rows of the dataset\n",
        "df.tail()"
      ],
      "metadata": {
        "colab": {
          "base_uri": "https://localhost:8080/",
          "height": 0
        },
        "id": "bM1HPyMVYIku",
        "outputId": "b1be056e-4ed4-482a-96f1-6e80439196ef"
      },
      "execution_count": 25,
      "outputs": [
        {
          "output_type": "execute_result",
          "data": {
            "text/plain": [
              "        Brand         Model Operating System                Connectivity  \\\n",
              "374  Withings     ScanWatch      Withings OS            Bluetooth, Wi-Fi   \n",
              "375      Zepp             Z          Zepp OS  Bluetooth, Wi-Fi, Cellular   \n",
              "376     Honor  Watch GS Pro          Lite OS            Bluetooth, Wi-Fi   \n",
              "377      Oppo    Watch Free          ColorOS            Bluetooth, Wi-Fi   \n",
              "378  TicWatch         Pro 3          Wear OS  Bluetooth, Wi-Fi, Cellular   \n",
              "\n",
              "    Display Type  Display Size (inches) Resolution Water Resistance (meters)  \\\n",
              "374       PMOLED                   1.38  348 x 442                        50   \n",
              "375       AMOLED                   1.39  454 x 454                        50   \n",
              "376       AMOLED                   1.39  454 x 454                        50   \n",
              "377       AMOLED                   1.64  326 x 326                        50   \n",
              "378       AMOLED                   1.40  454 x 454                        50   \n",
              "\n",
              "    Battery Life (days) Heart Rate Monitor  GPS  NFC Price (USD)  \n",
              "374                  30                Yes   No  Yes       $279   \n",
              "375                  15                Yes  Yes  Yes       $349   \n",
              "376                  25                Yes  Yes  Yes       $249   \n",
              "377                  14                Yes   No  Yes       $159   \n",
              "378                  72                Yes  Yes  Yes       $299   "
            ],
            "text/html": [
              "\n",
              "  <div id=\"df-db5cda4d-9ce3-4607-ba7b-588a89143099\">\n",
              "    <div class=\"colab-df-container\">\n",
              "      <div>\n",
              "<style scoped>\n",
              "    .dataframe tbody tr th:only-of-type {\n",
              "        vertical-align: middle;\n",
              "    }\n",
              "\n",
              "    .dataframe tbody tr th {\n",
              "        vertical-align: top;\n",
              "    }\n",
              "\n",
              "    .dataframe thead th {\n",
              "        text-align: right;\n",
              "    }\n",
              "</style>\n",
              "<table border=\"1\" class=\"dataframe\">\n",
              "  <thead>\n",
              "    <tr style=\"text-align: right;\">\n",
              "      <th></th>\n",
              "      <th>Brand</th>\n",
              "      <th>Model</th>\n",
              "      <th>Operating System</th>\n",
              "      <th>Connectivity</th>\n",
              "      <th>Display Type</th>\n",
              "      <th>Display Size (inches)</th>\n",
              "      <th>Resolution</th>\n",
              "      <th>Water Resistance (meters)</th>\n",
              "      <th>Battery Life (days)</th>\n",
              "      <th>Heart Rate Monitor</th>\n",
              "      <th>GPS</th>\n",
              "      <th>NFC</th>\n",
              "      <th>Price (USD)</th>\n",
              "    </tr>\n",
              "  </thead>\n",
              "  <tbody>\n",
              "    <tr>\n",
              "      <th>374</th>\n",
              "      <td>Withings</td>\n",
              "      <td>ScanWatch</td>\n",
              "      <td>Withings OS</td>\n",
              "      <td>Bluetooth, Wi-Fi</td>\n",
              "      <td>PMOLED</td>\n",
              "      <td>1.38</td>\n",
              "      <td>348 x 442</td>\n",
              "      <td>50</td>\n",
              "      <td>30</td>\n",
              "      <td>Yes</td>\n",
              "      <td>No</td>\n",
              "      <td>Yes</td>\n",
              "      <td>$279</td>\n",
              "    </tr>\n",
              "    <tr>\n",
              "      <th>375</th>\n",
              "      <td>Zepp</td>\n",
              "      <td>Z</td>\n",
              "      <td>Zepp OS</td>\n",
              "      <td>Bluetooth, Wi-Fi, Cellular</td>\n",
              "      <td>AMOLED</td>\n",
              "      <td>1.39</td>\n",
              "      <td>454 x 454</td>\n",
              "      <td>50</td>\n",
              "      <td>15</td>\n",
              "      <td>Yes</td>\n",
              "      <td>Yes</td>\n",
              "      <td>Yes</td>\n",
              "      <td>$349</td>\n",
              "    </tr>\n",
              "    <tr>\n",
              "      <th>376</th>\n",
              "      <td>Honor</td>\n",
              "      <td>Watch GS Pro</td>\n",
              "      <td>Lite OS</td>\n",
              "      <td>Bluetooth, Wi-Fi</td>\n",
              "      <td>AMOLED</td>\n",
              "      <td>1.39</td>\n",
              "      <td>454 x 454</td>\n",
              "      <td>50</td>\n",
              "      <td>25</td>\n",
              "      <td>Yes</td>\n",
              "      <td>Yes</td>\n",
              "      <td>Yes</td>\n",
              "      <td>$249</td>\n",
              "    </tr>\n",
              "    <tr>\n",
              "      <th>377</th>\n",
              "      <td>Oppo</td>\n",
              "      <td>Watch Free</td>\n",
              "      <td>ColorOS</td>\n",
              "      <td>Bluetooth, Wi-Fi</td>\n",
              "      <td>AMOLED</td>\n",
              "      <td>1.64</td>\n",
              "      <td>326 x 326</td>\n",
              "      <td>50</td>\n",
              "      <td>14</td>\n",
              "      <td>Yes</td>\n",
              "      <td>No</td>\n",
              "      <td>Yes</td>\n",
              "      <td>$159</td>\n",
              "    </tr>\n",
              "    <tr>\n",
              "      <th>378</th>\n",
              "      <td>TicWatch</td>\n",
              "      <td>Pro 3</td>\n",
              "      <td>Wear OS</td>\n",
              "      <td>Bluetooth, Wi-Fi, Cellular</td>\n",
              "      <td>AMOLED</td>\n",
              "      <td>1.40</td>\n",
              "      <td>454 x 454</td>\n",
              "      <td>50</td>\n",
              "      <td>72</td>\n",
              "      <td>Yes</td>\n",
              "      <td>Yes</td>\n",
              "      <td>Yes</td>\n",
              "      <td>$299</td>\n",
              "    </tr>\n",
              "  </tbody>\n",
              "</table>\n",
              "</div>\n",
              "      <button class=\"colab-df-convert\" onclick=\"convertToInteractive('df-db5cda4d-9ce3-4607-ba7b-588a89143099')\"\n",
              "              title=\"Convert this dataframe to an interactive table.\"\n",
              "              style=\"display:none;\">\n",
              "        \n",
              "  <svg xmlns=\"http://www.w3.org/2000/svg\" height=\"24px\"viewBox=\"0 0 24 24\"\n",
              "       width=\"24px\">\n",
              "    <path d=\"M0 0h24v24H0V0z\" fill=\"none\"/>\n",
              "    <path d=\"M18.56 5.44l.94 2.06.94-2.06 2.06-.94-2.06-.94-.94-2.06-.94 2.06-2.06.94zm-11 1L8.5 8.5l.94-2.06 2.06-.94-2.06-.94L8.5 2.5l-.94 2.06-2.06.94zm10 10l.94 2.06.94-2.06 2.06-.94-2.06-.94-.94-2.06-.94 2.06-2.06.94z\"/><path d=\"M17.41 7.96l-1.37-1.37c-.4-.4-.92-.59-1.43-.59-.52 0-1.04.2-1.43.59L10.3 9.45l-7.72 7.72c-.78.78-.78 2.05 0 2.83L4 21.41c.39.39.9.59 1.41.59.51 0 1.02-.2 1.41-.59l7.78-7.78 2.81-2.81c.8-.78.8-2.07 0-2.86zM5.41 20L4 18.59l7.72-7.72 1.47 1.35L5.41 20z\"/>\n",
              "  </svg>\n",
              "      </button>\n",
              "      \n",
              "  <style>\n",
              "    .colab-df-container {\n",
              "      display:flex;\n",
              "      flex-wrap:wrap;\n",
              "      gap: 12px;\n",
              "    }\n",
              "\n",
              "    .colab-df-convert {\n",
              "      background-color: #E8F0FE;\n",
              "      border: none;\n",
              "      border-radius: 50%;\n",
              "      cursor: pointer;\n",
              "      display: none;\n",
              "      fill: #1967D2;\n",
              "      height: 32px;\n",
              "      padding: 0 0 0 0;\n",
              "      width: 32px;\n",
              "    }\n",
              "\n",
              "    .colab-df-convert:hover {\n",
              "      background-color: #E2EBFA;\n",
              "      box-shadow: 0px 1px 2px rgba(60, 64, 67, 0.3), 0px 1px 3px 1px rgba(60, 64, 67, 0.15);\n",
              "      fill: #174EA6;\n",
              "    }\n",
              "\n",
              "    [theme=dark] .colab-df-convert {\n",
              "      background-color: #3B4455;\n",
              "      fill: #D2E3FC;\n",
              "    }\n",
              "\n",
              "    [theme=dark] .colab-df-convert:hover {\n",
              "      background-color: #434B5C;\n",
              "      box-shadow: 0px 1px 3px 1px rgba(0, 0, 0, 0.15);\n",
              "      filter: drop-shadow(0px 1px 2px rgba(0, 0, 0, 0.3));\n",
              "      fill: #FFFFFF;\n",
              "    }\n",
              "  </style>\n",
              "\n",
              "      <script>\n",
              "        const buttonEl =\n",
              "          document.querySelector('#df-db5cda4d-9ce3-4607-ba7b-588a89143099 button.colab-df-convert');\n",
              "        buttonEl.style.display =\n",
              "          google.colab.kernel.accessAllowed ? 'block' : 'none';\n",
              "\n",
              "        async function convertToInteractive(key) {\n",
              "          const element = document.querySelector('#df-db5cda4d-9ce3-4607-ba7b-588a89143099');\n",
              "          const dataTable =\n",
              "            await google.colab.kernel.invokeFunction('convertToInteractive',\n",
              "                                                     [key], {});\n",
              "          if (!dataTable) return;\n",
              "\n",
              "          const docLinkHtml = 'Like what you see? Visit the ' +\n",
              "            '<a target=\"_blank\" href=https://colab.research.google.com/notebooks/data_table.ipynb>data table notebook</a>'\n",
              "            + ' to learn more about interactive tables.';\n",
              "          element.innerHTML = '';\n",
              "          dataTable['output_type'] = 'display_data';\n",
              "          await google.colab.output.renderOutput(dataTable, element);\n",
              "          const docLink = document.createElement('div');\n",
              "          docLink.innerHTML = docLinkHtml;\n",
              "          element.appendChild(docLink);\n",
              "        }\n",
              "      </script>\n",
              "    </div>\n",
              "  </div>\n",
              "  "
            ]
          },
          "metadata": {},
          "execution_count": 25
        }
      ]
    },
    {
      "cell_type": "markdown",
      "source": [
        "I saw that in the dataset 379 rows and 13 columns present.\n",
        "\n",
        "#Let's go to Do some preprocessing."
      ],
      "metadata": {
        "id": "KnRwXQZoYbnY"
      }
    },
    {
      "cell_type": "code",
      "source": [
        "#Let's see what type of columns are present in our dataset.\n",
        "df.columns"
      ],
      "metadata": {
        "colab": {
          "base_uri": "https://localhost:8080/"
        },
        "id": "u7ApZce4Y2LE",
        "outputId": "588fe262-fbc4-4952-dfcf-c8f0db21d180"
      },
      "execution_count": 26,
      "outputs": [
        {
          "output_type": "execute_result",
          "data": {
            "text/plain": [
              "Index(['Brand', 'Model', 'Operating System', 'Connectivity', 'Display Type',\n",
              "       'Display Size (inches)', 'Resolution', 'Water Resistance (meters)',\n",
              "       'Battery Life (days)', 'Heart Rate Monitor', 'GPS', 'NFC',\n",
              "       'Price (USD)'],\n",
              "      dtype='object')"
            ]
          },
          "metadata": {},
          "execution_count": 26
        }
      ]
    },
    {
      "cell_type": "code",
      "source": [
        "#shape of the dataset\n",
        "df.shape"
      ],
      "metadata": {
        "colab": {
          "base_uri": "https://localhost:8080/"
        },
        "id": "CO-vB4BdY3xS",
        "outputId": "1fc0137e-e119-403b-8bca-c6882c45ef3b"
      },
      "execution_count": 27,
      "outputs": [
        {
          "output_type": "execute_result",
          "data": {
            "text/plain": [
              "(379, 13)"
            ]
          },
          "metadata": {},
          "execution_count": 27
        }
      ]
    },
    {
      "cell_type": "code",
      "source": [
        "#let's find the data type\n",
        "print(df.dtypes)"
      ],
      "metadata": {
        "colab": {
          "base_uri": "https://localhost:8080/"
        },
        "id": "ZS_gJki1bA4Q",
        "outputId": "b66d697e-0446-43b3-bc8d-d6534eeb86f5"
      },
      "execution_count": 28,
      "outputs": [
        {
          "output_type": "stream",
          "name": "stdout",
          "text": [
            "Brand                         object\n",
            "Model                         object\n",
            "Operating System              object\n",
            "Connectivity                  object\n",
            "Display Type                  object\n",
            "Display Size (inches)        float64\n",
            "Resolution                    object\n",
            "Water Resistance (meters)     object\n",
            "Battery Life (days)           object\n",
            "Heart Rate Monitor            object\n",
            "GPS                           object\n",
            "NFC                           object\n",
            "Price (USD)                   object\n",
            "dtype: object\n"
          ]
        }
      ]
    },
    {
      "cell_type": "markdown",
      "source": [
        "I saw that all the columns are object type except one column display size"
      ],
      "metadata": {
        "id": "A4786g75bY1y"
      }
    },
    {
      "cell_type": "code",
      "source": [
        "#Check the number of unique value\n",
        "df.select_dtypes(include=\"object\").nunique()"
      ],
      "metadata": {
        "id": "YtcXxViAZEUW",
        "colab": {
          "base_uri": "https://localhost:8080/"
        },
        "outputId": "be245754-3533-45de-e347-bd6b2f4a70d9"
      },
      "execution_count": 29,
      "outputs": [
        {
          "output_type": "execute_result",
          "data": {
            "text/plain": [
              "Brand                         42\n",
              "Model                        137\n",
              "Operating System              35\n",
              "Connectivity                   5\n",
              "Display Type                  27\n",
              "Resolution                    36\n",
              "Water Resistance (meters)      7\n",
              "Battery Life (days)           30\n",
              "Heart Rate Monitor             1\n",
              "GPS                            2\n",
              "NFC                            2\n",
              "Price (USD)                   50\n",
              "dtype: int64"
            ]
          },
          "metadata": {},
          "execution_count": 29
        }
      ]
    },
    {
      "cell_type": "markdown",
      "source": [
        "Here we get a clarity that column model is too many different values so we can remove the columns for better clarify to ML algorithm.\n",
        "\n",
        "Let's drop the columns \"Model\""
      ],
      "metadata": {
        "id": "OGm_HFYpcxKd"
      }
    },
    {
      "cell_type": "code",
      "source": [
        "#Drop the model columns\n",
        "df.drop(columns=\"Model\", inplace= True)\n",
        "#Let's check the shape of the dataset\n",
        "df.shape"
      ],
      "metadata": {
        "colab": {
          "base_uri": "https://localhost:8080/"
        },
        "id": "9J-F2y1RdZV_",
        "outputId": "d182b1fd-6b9a-40a0-d849-759d5673f540"
      },
      "execution_count": 30,
      "outputs": [
        {
          "output_type": "execute_result",
          "data": {
            "text/plain": [
              "(379, 12)"
            ]
          },
          "metadata": {},
          "execution_count": 30
        }
      ]
    },
    {
      "cell_type": "code",
      "source": [
        "#finding missing values\n",
        "print(df.isna().sum())"
      ],
      "metadata": {
        "colab": {
          "base_uri": "https://localhost:8080/"
        },
        "id": "CSrbGqIBaJtN",
        "outputId": "41468137-bf87-47b3-a44b-554b30626f11"
      },
      "execution_count": 31,
      "outputs": [
        {
          "output_type": "stream",
          "name": "stdout",
          "text": [
            "Brand                        1\n",
            "Operating System             3\n",
            "Connectivity                 1\n",
            "Display Type                 2\n",
            "Display Size (inches)        3\n",
            "Resolution                   4\n",
            "Water Resistance (meters)    1\n",
            "Battery Life (days)          1\n",
            "Heart Rate Monitor           1\n",
            "GPS                          1\n",
            "NFC                          1\n",
            "Price (USD)                  1\n",
            "dtype: int64\n"
          ]
        }
      ]
    },
    {
      "cell_type": "markdown",
      "source": [
        "In every columns atleast one missing value is present so let's leave that we can deal with the missing values later ."
      ],
      "metadata": {
        "id": "Y-cdlEJlclYY"
      }
    },
    {
      "cell_type": "markdown",
      "source": [
        "We saw that values of the column \"Price (USD)\" is present with the USD symbol and some where comma also so we 1st remove those two the convert the column to numeric column.\n",
        "\n",
        "#Let's remove the USD symbol and comma from the price columns."
      ],
      "metadata": {
        "id": "oHadn_zNfdqd"
      }
    },
    {
      "cell_type": "code",
      "source": [
        "#Remove USD symbol and comma from price column.\n",
        "df[\"Price (USD)\"]=df[\"Price (USD)\"].str.replace(\",\",\"\").str.replace(\"$\",\" \").str.replace(\" \",\"\")\n",
        "\n",
        "# Convert the Price(USD) column to numeric values\n",
        "df['Price (USD)'] = pd.to_numeric(df['Price (USD)'])\n",
        "df.head()"
      ],
      "metadata": {
        "colab": {
          "base_uri": "https://localhost:8080/",
          "height": 0
        },
        "id": "phFqIrdke_GQ",
        "outputId": "351529d1-78c3-4429-eed7-4e073bfa3c3c"
      },
      "execution_count": 32,
      "outputs": [
        {
          "output_type": "stream",
          "name": "stderr",
          "text": [
            "<ipython-input-32-74988255bd59>:2: FutureWarning: The default value of regex will change from True to False in a future version. In addition, single character regular expressions will *not* be treated as literal strings when regex=True.\n",
            "  df[\"Price (USD)\"]=df[\"Price (USD)\"].str.replace(\",\",\"\").str.replace(\"$\",\" \").str.replace(\" \",\"\")\n"
          ]
        },
        {
          "output_type": "execute_result",
          "data": {
            "text/plain": [
              "     Brand Operating System                Connectivity Display Type  \\\n",
              "0    Apple          watchOS  Bluetooth, Wi-Fi, Cellular       Retina   \n",
              "1  Samsung          Wear OS  Bluetooth, Wi-Fi, Cellular       AMOLED   \n",
              "2   Garmin        Garmin OS            Bluetooth, Wi-Fi       AMOLED   \n",
              "3   Fitbit        Fitbit OS            Bluetooth, Wi-Fi       AMOLED   \n",
              "4   Fossil          Wear OS            Bluetooth, Wi-Fi       AMOLED   \n",
              "\n",
              "   Display Size (inches) Resolution Water Resistance (meters)  \\\n",
              "0                   1.90  396 x 484                        50   \n",
              "1                   1.40  450 x 450                        50   \n",
              "2                   1.30  416 x 416                        50   \n",
              "3                   1.58  336 x 336                        50   \n",
              "4                   1.28  416 x 416                        30   \n",
              "\n",
              "  Battery Life (days) Heart Rate Monitor  GPS  NFC  Price (USD)  \n",
              "0                  18                Yes  Yes  Yes        399.0  \n",
              "1                  40                Yes  Yes  Yes        249.0  \n",
              "2                  11                Yes  Yes   No        399.0  \n",
              "3                   6                Yes  Yes  Yes        229.0  \n",
              "4                  24                Yes  Yes  Yes        299.0  "
            ],
            "text/html": [
              "\n",
              "  <div id=\"df-10c36238-fbfc-4ff0-b156-089da0b2eb17\">\n",
              "    <div class=\"colab-df-container\">\n",
              "      <div>\n",
              "<style scoped>\n",
              "    .dataframe tbody tr th:only-of-type {\n",
              "        vertical-align: middle;\n",
              "    }\n",
              "\n",
              "    .dataframe tbody tr th {\n",
              "        vertical-align: top;\n",
              "    }\n",
              "\n",
              "    .dataframe thead th {\n",
              "        text-align: right;\n",
              "    }\n",
              "</style>\n",
              "<table border=\"1\" class=\"dataframe\">\n",
              "  <thead>\n",
              "    <tr style=\"text-align: right;\">\n",
              "      <th></th>\n",
              "      <th>Brand</th>\n",
              "      <th>Operating System</th>\n",
              "      <th>Connectivity</th>\n",
              "      <th>Display Type</th>\n",
              "      <th>Display Size (inches)</th>\n",
              "      <th>Resolution</th>\n",
              "      <th>Water Resistance (meters)</th>\n",
              "      <th>Battery Life (days)</th>\n",
              "      <th>Heart Rate Monitor</th>\n",
              "      <th>GPS</th>\n",
              "      <th>NFC</th>\n",
              "      <th>Price (USD)</th>\n",
              "    </tr>\n",
              "  </thead>\n",
              "  <tbody>\n",
              "    <tr>\n",
              "      <th>0</th>\n",
              "      <td>Apple</td>\n",
              "      <td>watchOS</td>\n",
              "      <td>Bluetooth, Wi-Fi, Cellular</td>\n",
              "      <td>Retina</td>\n",
              "      <td>1.90</td>\n",
              "      <td>396 x 484</td>\n",
              "      <td>50</td>\n",
              "      <td>18</td>\n",
              "      <td>Yes</td>\n",
              "      <td>Yes</td>\n",
              "      <td>Yes</td>\n",
              "      <td>399.0</td>\n",
              "    </tr>\n",
              "    <tr>\n",
              "      <th>1</th>\n",
              "      <td>Samsung</td>\n",
              "      <td>Wear OS</td>\n",
              "      <td>Bluetooth, Wi-Fi, Cellular</td>\n",
              "      <td>AMOLED</td>\n",
              "      <td>1.40</td>\n",
              "      <td>450 x 450</td>\n",
              "      <td>50</td>\n",
              "      <td>40</td>\n",
              "      <td>Yes</td>\n",
              "      <td>Yes</td>\n",
              "      <td>Yes</td>\n",
              "      <td>249.0</td>\n",
              "    </tr>\n",
              "    <tr>\n",
              "      <th>2</th>\n",
              "      <td>Garmin</td>\n",
              "      <td>Garmin OS</td>\n",
              "      <td>Bluetooth, Wi-Fi</td>\n",
              "      <td>AMOLED</td>\n",
              "      <td>1.30</td>\n",
              "      <td>416 x 416</td>\n",
              "      <td>50</td>\n",
              "      <td>11</td>\n",
              "      <td>Yes</td>\n",
              "      <td>Yes</td>\n",
              "      <td>No</td>\n",
              "      <td>399.0</td>\n",
              "    </tr>\n",
              "    <tr>\n",
              "      <th>3</th>\n",
              "      <td>Fitbit</td>\n",
              "      <td>Fitbit OS</td>\n",
              "      <td>Bluetooth, Wi-Fi</td>\n",
              "      <td>AMOLED</td>\n",
              "      <td>1.58</td>\n",
              "      <td>336 x 336</td>\n",
              "      <td>50</td>\n",
              "      <td>6</td>\n",
              "      <td>Yes</td>\n",
              "      <td>Yes</td>\n",
              "      <td>Yes</td>\n",
              "      <td>229.0</td>\n",
              "    </tr>\n",
              "    <tr>\n",
              "      <th>4</th>\n",
              "      <td>Fossil</td>\n",
              "      <td>Wear OS</td>\n",
              "      <td>Bluetooth, Wi-Fi</td>\n",
              "      <td>AMOLED</td>\n",
              "      <td>1.28</td>\n",
              "      <td>416 x 416</td>\n",
              "      <td>30</td>\n",
              "      <td>24</td>\n",
              "      <td>Yes</td>\n",
              "      <td>Yes</td>\n",
              "      <td>Yes</td>\n",
              "      <td>299.0</td>\n",
              "    </tr>\n",
              "  </tbody>\n",
              "</table>\n",
              "</div>\n",
              "      <button class=\"colab-df-convert\" onclick=\"convertToInteractive('df-10c36238-fbfc-4ff0-b156-089da0b2eb17')\"\n",
              "              title=\"Convert this dataframe to an interactive table.\"\n",
              "              style=\"display:none;\">\n",
              "        \n",
              "  <svg xmlns=\"http://www.w3.org/2000/svg\" height=\"24px\"viewBox=\"0 0 24 24\"\n",
              "       width=\"24px\">\n",
              "    <path d=\"M0 0h24v24H0V0z\" fill=\"none\"/>\n",
              "    <path d=\"M18.56 5.44l.94 2.06.94-2.06 2.06-.94-2.06-.94-.94-2.06-.94 2.06-2.06.94zm-11 1L8.5 8.5l.94-2.06 2.06-.94-2.06-.94L8.5 2.5l-.94 2.06-2.06.94zm10 10l.94 2.06.94-2.06 2.06-.94-2.06-.94-.94-2.06-.94 2.06-2.06.94z\"/><path d=\"M17.41 7.96l-1.37-1.37c-.4-.4-.92-.59-1.43-.59-.52 0-1.04.2-1.43.59L10.3 9.45l-7.72 7.72c-.78.78-.78 2.05 0 2.83L4 21.41c.39.39.9.59 1.41.59.51 0 1.02-.2 1.41-.59l7.78-7.78 2.81-2.81c.8-.78.8-2.07 0-2.86zM5.41 20L4 18.59l7.72-7.72 1.47 1.35L5.41 20z\"/>\n",
              "  </svg>\n",
              "      </button>\n",
              "      \n",
              "  <style>\n",
              "    .colab-df-container {\n",
              "      display:flex;\n",
              "      flex-wrap:wrap;\n",
              "      gap: 12px;\n",
              "    }\n",
              "\n",
              "    .colab-df-convert {\n",
              "      background-color: #E8F0FE;\n",
              "      border: none;\n",
              "      border-radius: 50%;\n",
              "      cursor: pointer;\n",
              "      display: none;\n",
              "      fill: #1967D2;\n",
              "      height: 32px;\n",
              "      padding: 0 0 0 0;\n",
              "      width: 32px;\n",
              "    }\n",
              "\n",
              "    .colab-df-convert:hover {\n",
              "      background-color: #E2EBFA;\n",
              "      box-shadow: 0px 1px 2px rgba(60, 64, 67, 0.3), 0px 1px 3px 1px rgba(60, 64, 67, 0.15);\n",
              "      fill: #174EA6;\n",
              "    }\n",
              "\n",
              "    [theme=dark] .colab-df-convert {\n",
              "      background-color: #3B4455;\n",
              "      fill: #D2E3FC;\n",
              "    }\n",
              "\n",
              "    [theme=dark] .colab-df-convert:hover {\n",
              "      background-color: #434B5C;\n",
              "      box-shadow: 0px 1px 3px 1px rgba(0, 0, 0, 0.15);\n",
              "      filter: drop-shadow(0px 1px 2px rgba(0, 0, 0, 0.3));\n",
              "      fill: #FFFFFF;\n",
              "    }\n",
              "  </style>\n",
              "\n",
              "      <script>\n",
              "        const buttonEl =\n",
              "          document.querySelector('#df-10c36238-fbfc-4ff0-b156-089da0b2eb17 button.colab-df-convert');\n",
              "        buttonEl.style.display =\n",
              "          google.colab.kernel.accessAllowed ? 'block' : 'none';\n",
              "\n",
              "        async function convertToInteractive(key) {\n",
              "          const element = document.querySelector('#df-10c36238-fbfc-4ff0-b156-089da0b2eb17');\n",
              "          const dataTable =\n",
              "            await google.colab.kernel.invokeFunction('convertToInteractive',\n",
              "                                                     [key], {});\n",
              "          if (!dataTable) return;\n",
              "\n",
              "          const docLinkHtml = 'Like what you see? Visit the ' +\n",
              "            '<a target=\"_blank\" href=https://colab.research.google.com/notebooks/data_table.ipynb>data table notebook</a>'\n",
              "            + ' to learn more about interactive tables.';\n",
              "          element.innerHTML = '';\n",
              "          dataTable['output_type'] = 'display_data';\n",
              "          await google.colab.output.renderOutput(dataTable, element);\n",
              "          const docLink = document.createElement('div');\n",
              "          docLink.innerHTML = docLinkHtml;\n",
              "          element.appendChild(docLink);\n",
              "        }\n",
              "      </script>\n",
              "    </div>\n",
              "  </div>\n",
              "  "
            ]
          },
          "metadata": {},
          "execution_count": 32
        }
      ]
    },
    {
      "cell_type": "code",
      "source": [
        "#Check the dtype of all columns\n",
        "print(df.dtypes)"
      ],
      "metadata": {
        "colab": {
          "base_uri": "https://localhost:8080/"
        },
        "id": "PVJbragnn5M1",
        "outputId": "1f97d341-1ae3-4919-e775-c986163e5fd7"
      },
      "execution_count": 33,
      "outputs": [
        {
          "output_type": "stream",
          "name": "stdout",
          "text": [
            "Brand                         object\n",
            "Operating System              object\n",
            "Connectivity                  object\n",
            "Display Type                  object\n",
            "Display Size (inches)        float64\n",
            "Resolution                    object\n",
            "Water Resistance (meters)     object\n",
            "Battery Life (days)           object\n",
            "Heart Rate Monitor            object\n",
            "GPS                           object\n",
            "NFC                           object\n",
            "Price (USD)                  float64\n",
            "dtype: object\n"
          ]
        }
      ]
    },
    {
      "cell_type": "markdown",
      "source": [
        "#Let's check the unique value of all columns\n"
      ],
      "metadata": {
        "id": "H8vjDmmyRatG"
      }
    },
    {
      "cell_type": "code",
      "source": [
        "def get_unique_value(dataset):\n",
        "  unique_values={}\n",
        "  for col in dataset.columns:\n",
        "    unique_values[col]=dataset[col].unique().tolist()\n",
        "  return unique_values"
      ],
      "metadata": {
        "id": "iXyQENanTBVw"
      },
      "execution_count": 55,
      "outputs": []
    },
    {
      "cell_type": "code",
      "source": [
        "print(get_unique_value(df))"
      ],
      "metadata": {
        "colab": {
          "base_uri": "https://localhost:8080/"
        },
        "id": "kgHlWgexVJSR",
        "outputId": "bccbe5fa-7bea-49f5-8fc7-4b327f9742ab"
      },
      "execution_count": 60,
      "outputs": [
        {
          "output_type": "stream",
          "name": "stdout",
          "text": [
            "{'Brand': ['Apple', 'Samsung', 'Garmin', 'Fitbit', 'Fossil', 'Huawei', 'TicWatch', 'Oppo', 'Amazfit', 'Skagen', 'Withings', 'Timex', 'Suunto', 'Mobvoi', 'Polar', 'Ticwatch', 'Xiaomi', 'Honor', 'LG', nan, 'Casio', 'OnePlus', 'Misfit', 'Moto', 'MyKronoz', 'Nubia', 'Sony', 'Zepp', 'Realme', 'Matrix', 'Kate Spade', 'Diesel', 'Michael Kors', 'Zeblaze', 'Kospet', 'Lemfo', 'TAG Heuer', 'Montblanc', 'Asus', 'Emporio Armani', 'Polaroid', 'Motorola', 'Nokia'], 'Operating System': ['watchOS', 'Wear OS', 'Garmin OS', 'Fitbit OS', 'Other', 'Unknown', 'Tizen OS', 'Proprietary OS'], 'Connectivity': ['Bluetooth, Wi-Fi, Cellular', 'Bluetooth, Wi-Fi', 'Bluetooth', 'Bluetooth, Wi-Fi, GPS', nan, 'Bluetooth, Wi-Fi, NFC'], 'Display Type': ['Other', 'AMOLED', 'IPS LCD', 'Unknown', 'LCD', 'OLED', 'TFT', 'E-Ink', 'Monochrome'], 'Display Size (inches)': [1.9, 1.4, 1.3, 1.58, 1.28, 1.43, 1.75, 1.39, nan, 1.65, 1.2, 1.57, 1.0, 1.78, 1.91, 1.38, 1.06, 1.35, 1.34, 0.9, 1.04, 1.64, 1.19, 4.01, 1.6, 1.42, 2.1, 1.23, 1.1, 1.22, 1.5, 1.36, 1.32], 'Resolution': ['396 x 484', '450 x 450', '416 x 416', '336 x 336', '466 x 466', '360 x 360', '372 x 430', '454 x 454', nan, '240 x 240', '390 x 390', '394 x 324', '240 x 201', '368 x 448', '400 x 400', '324 x 394', '320 x 320', '348 x 442', '402 x 476', '480 x 480', '176 x 176', '300 x 300', '200 x 200', '280 x 280', '128 x 128', '240 x 198', '280 x 456', '328 x 328', '960 x 192', '348 x 250', '320 x 300', '320 x 302', '228 x 172', '160 x 160', '260 x 260', '126 x 36', '326 x 326'], 'Water Resistance (meters)': ['50', '30', '100', '1.5', nan, 'Not specified', '200', '10'], 'Battery Life (days)': ['18', '40', '11', '6', '24', '14', '2', '4', '12', '30', '3', '45', '5', '10', '48', '7', '16', '9', '25', '72', '60', '56', nan, '70', '1', '48 hours', '15', 'Unlimited', '1.5', '20', '8'], 'Heart Rate Monitor': ['Yes', nan], 'GPS': ['Yes', 'No', nan], 'NFC': ['Yes', 'No', nan], 'Price (USD)': [399.0, 249.0, 229.0, 299.0, 499.0, 199.0, 195.0, 279.0, 179.0, 649.0, 349.0, 329.0, 295.0, 599.0, 255.0, 139.0, 149.0, 479.0, 59.0, 219.0, 275.0, 129.0, 119.0, 159.0, nan, 799.0, 849.0, 189.0, 549.0, 569.0, 449.0, 49.0, 69.0, 99.0, 209.0, 269.0, 699.0, 120.0, 1500.0, 990.0, 1650.0, 375.0, 150.0, 79.0, 1230.0, 1800.0, 1200.0, 1170.0, 259.0, 325.0, 350.0]}\n"
          ]
        }
      ]
    },
    {
      "cell_type": "markdown",
      "source": [
        "#segment the operating system"
      ],
      "metadata": {
        "id": "OQCtvpd_IWD8"
      }
    },
    {
      "cell_type": "code",
      "source": [
        "df[\"Operating System\"].unique()"
      ],
      "metadata": {
        "colab": {
          "base_uri": "https://localhost:8080/"
        },
        "id": "XWNqh52Coedh",
        "outputId": "015eee18-368e-4510-9a71-8e4f77f26074"
      },
      "execution_count": 34,
      "outputs": [
        {
          "output_type": "execute_result",
          "data": {
            "text/plain": [
              "array(['watchOS', 'Wear OS', 'Garmin OS', 'Fitbit OS', 'HarmonyOS',\n",
              "       'ColorOS', 'Amazfit OS', nan, 'Withings OS', 'Polar OS',\n",
              "       'Tizen OS', 'Hybrid OS', 'Lite OS', 'Tizen', 'Suunto OS',\n",
              "       'Proprietary OS', 'Proprietary', 'LiteOS', 'Android Wear',\n",
              "       'MIUI for Watch', 'Custom OS', 'Fossil OS', 'MIUI', 'RTOS',\n",
              "       'MyKronoz OS', 'Nubia OS', 'Mi Wear OS', 'Zepp OS', 'Realme OS',\n",
              "       'Matrix OS', 'Android OS', 'Casio OS', 'Skagen OS', 'Timex OS',\n",
              "       'MIUI For Watch', 'Android'], dtype=object)"
            ]
          },
          "metadata": {},
          "execution_count": 34
        }
      ]
    },
    {
      "cell_type": "code",
      "source": [
        "def segment_os(os):\n",
        "  if pd.isnull(os):\n",
        "    return 'Unknown'\n",
        "  elif 'watchOS' in os:\n",
        "    return 'watchOS'\n",
        "  elif 'Wear OS' in os or 'Android Wear' in os:\n",
        "    return 'Wear OS'\n",
        "  elif 'Garmin' in os:\n",
        "    return 'Garmin OS'\n",
        "  elif 'Fitbit' in os:\n",
        "    return 'Fitbit OS'\n",
        "  elif 'Tizen' in os:\n",
        "    return 'Tizen OS'\n",
        "  elif 'Proprietary' in os:\n",
        "    return 'Proprietary OS'\n",
        "  else:\n",
        "    return 'Other'"
      ],
      "metadata": {
        "id": "38w2S9VrIi7A"
      },
      "execution_count": 35,
      "outputs": []
    },
    {
      "cell_type": "code",
      "source": [
        "df['Operating System']=df['Operating System'].apply(segment_os)"
      ],
      "metadata": {
        "id": "mtMhuoSqK2ug"
      },
      "execution_count": 36,
      "outputs": []
    },
    {
      "cell_type": "code",
      "source": [
        "print(df['Operating System'].unique())"
      ],
      "metadata": {
        "colab": {
          "base_uri": "https://localhost:8080/"
        },
        "id": "k-qcKSsnLAVk",
        "outputId": "bd7c3c71-2de8-4260-af72-8eda77a01450"
      },
      "execution_count": 37,
      "outputs": [
        {
          "output_type": "stream",
          "name": "stdout",
          "text": [
            "['watchOS' 'Wear OS' 'Garmin OS' 'Fitbit OS' 'Other' 'Unknown' 'Tizen OS'\n",
            " 'Proprietary OS']\n"
          ]
        }
      ]
    },
    {
      "cell_type": "code",
      "source": [
        "plt.figure(figsize=(8,5))\n",
        "df['Operating System'].value_counts().plot(kind='bar')"
      ],
      "metadata": {
        "colab": {
          "base_uri": "https://localhost:8080/",
          "height": 0
        },
        "id": "w1G0dTtwLGmU",
        "outputId": "8a2a3a43-fc16-4a53-ad73-f098a1911ce0"
      },
      "execution_count": 38,
      "outputs": [
        {
          "output_type": "execute_result",
          "data": {
            "text/plain": [
              "<Axes: >"
            ]
          },
          "metadata": {},
          "execution_count": 38
        },
        {
          "output_type": "display_data",
          "data": {
            "text/plain": [
              "<Figure size 800x500 with 1 Axes>"
            ],
            "image/png": "[encoded data removed]"
          },
          "metadata": {}
        }
      ]
    },
    {
      "cell_type": "markdown",
      "source": [
        "#Segment the display type\n"
      ],
      "metadata": {
        "id": "NKSRwTYiONaW"
      }
    },
    {
      "cell_type": "code",
      "source": [
        "df['Display Type'].unique()"
      ],
      "metadata": {
        "id": "mqtkgGVqL4lf",
        "colab": {
          "base_uri": "https://localhost:8080/"
        },
        "outputId": "8aaa8bcd-b9e1-4443-f5ba-1d4ad5deec76"
      },
      "execution_count": 39,
      "outputs": [
        {
          "output_type": "execute_result",
          "data": {
            "text/plain": [
              "array(['Retina', 'AMOLED', 'IPS LCD', nan, 'TFT LCD',\n",
              "       'Memory-in-pixel (MIP)', 'Super AMOLED', 'LCD', 'Analog',\n",
              "       'Transflective', 'OLED', 'Gorilla Glass', 'MIP', 'P-OLED',\n",
              "       'transflective', 'PMOLED', 'TFT',\n",
              "       'Sunlight-visible, transflective memory-in-pixel (MIP)', 'E-Ink',\n",
              "       'E-ink', 'Sunlight-visible', 'Color Touch', 'IPS', 'Dual Layer',\n",
              "       'TFT-LCD', 'STN LCD', 'Monochrome', 'Memory LCD'], dtype=object)"
            ]
          },
          "metadata": {},
          "execution_count": 39
        }
      ]
    },
    {
      "cell_type": "code",
      "source": [
        "def segment_display_type(display_type):\n",
        "    if pd.isnull(display_type):\n",
        "        return 'Unknown'\n",
        "    elif 'AMOLED' in display_type:\n",
        "        return 'AMOLED'\n",
        "    elif 'IPS LCD' in display_type or 'IPS' in display_type:\n",
        "        return 'IPS LCD'\n",
        "    elif 'LCD' in display_type:\n",
        "        return 'LCD'\n",
        "    elif 'OLED' in display_type:\n",
        "        return 'OLED'\n",
        "    elif 'TFT' in display_type:\n",
        "        return 'TFT'\n",
        "    elif 'E-Ink' in display_type or 'E-ink' in display_type:\n",
        "        return 'E-Ink'\n",
        "    elif 'PMOLED' in display_type:\n",
        "        return 'PMOLED'\n",
        "    elif 'STN LCD' in display_type:\n",
        "        return 'STN LCD'\n",
        "    elif 'Monochrome' in display_type:\n",
        "        return 'Monochrome'\n",
        "    elif 'Memory LCD' in display_type:\n",
        "        return 'Memory LCD'\n",
        "    else:\n",
        "        return 'Other'"
      ],
      "metadata": {
        "id": "46_0UOjBQBGi"
      },
      "execution_count": 40,
      "outputs": []
    },
    {
      "cell_type": "code",
      "source": [
        "df['Display Type']=df['Display Type'].apply(segment_display_type)"
      ],
      "metadata": {
        "id": "je9Kr1iYQJke"
      },
      "execution_count": 41,
      "outputs": []
    },
    {
      "cell_type": "code",
      "source": [
        "plt.figure(figsize=(8,5))\n",
        "df['Display Type'].value_counts().plot(kind='bar',color='red')"
      ],
      "metadata": {
        "colab": {
          "base_uri": "https://localhost:8080/",
          "height": 509
        },
        "id": "kzuM38-3QWTe",
        "outputId": "f131b056-3c36-414e-92c2-7751b99297d0"
      },
      "execution_count": 43,
      "outputs": [
        {
          "output_type": "execute_result",
          "data": {
            "text/plain": [
              "<Axes: >"
            ]
          },
          "metadata": {},
          "execution_count": 43
        },
        {
          "output_type": "display_data",
          "data": {
            "text/plain": [
              "<Figure size 800x500 with 1 Axes>"
            ],
            "image/png": "[encoded data removed]"
          },
          "metadata": {}
        }
      ]
    },
    {
      "cell_type": "markdown",
      "source": [
        "We saw that in column 'Heart Rate Monitor' has only one unique value.so reomve the column.\n",
        "\n",
        "#Remove 'Heart Rate Monitor'"
      ],
      "metadata": {
        "id": "87x2FVIxYlYA"
      }
    },
    {
      "cell_type": "code",
      "source": [
        "#check shape\n",
        "df.shape"
      ],
      "metadata": {
        "colab": {
          "base_uri": "https://localhost:8080/"
        },
        "id": "xa9ytb3adYNJ",
        "outputId": "37ecfd44-f2e0-44d3-ef73-f428550cda4e"
      },
      "execution_count": 61,
      "outputs": [
        {
          "output_type": "execute_result",
          "data": {
            "text/plain": [
              "(379, 12)"
            ]
          },
          "metadata": {},
          "execution_count": 61
        }
      ]
    },
    {
      "cell_type": "code",
      "source": [
        "df.drop(columns='Heart Rate Monitor',inplace=True)\n",
        "df.shape"
      ],
      "metadata": {
        "colab": {
          "base_uri": "https://localhost:8080/"
        },
        "id": "XokZVLmDQp0I",
        "outputId": "7a24989f-ca14-4f8e-857c-f3c9438c654a"
      },
      "execution_count": 62,
      "outputs": [
        {
          "output_type": "execute_result",
          "data": {
            "text/plain": [
              "(379, 11)"
            ]
          },
          "metadata": {},
          "execution_count": 62
        }
      ]
    },
    {
      "cell_type": "markdown",
      "source": [
        "#Segment the Brand"
      ],
      "metadata": {
        "id": "ZHgDT180duJw"
      }
    },
    {
      "cell_type": "code",
      "source": [
        "df['Brand'].unique()"
      ],
      "metadata": {
        "colab": {
          "base_uri": "https://localhost:8080/"
        },
        "id": "rZWQMZhhdsch",
        "outputId": "01cf2dca-5050-48fb-fa81-3720e10edd86"
      },
      "execution_count": 63,
      "outputs": [
        {
          "output_type": "execute_result",
          "data": {
            "text/plain": [
              "array(['Apple', 'Samsung', 'Garmin', 'Fitbit', 'Fossil', 'Huawei',\n",
              "       'TicWatch', 'Oppo', 'Amazfit', 'Skagen', 'Withings', 'Timex',\n",
              "       'Suunto', 'Mobvoi', 'Polar', 'Ticwatch', 'Xiaomi', 'Honor', 'LG',\n",
              "       nan, 'Casio', 'OnePlus', 'Misfit', 'Moto', 'MyKronoz', 'Nubia',\n",
              "       'Sony', 'Zepp', 'Realme', 'Matrix', 'Kate Spade', 'Diesel',\n",
              "       'Michael Kors', 'Zeblaze', 'Kospet', 'Lemfo', 'TAG Heuer',\n",
              "       'Montblanc', 'Asus', 'Emporio Armani', 'Polaroid', 'Motorola',\n",
              "       'Nokia'], dtype=object)"
            ]
          },
          "metadata": {},
          "execution_count": 63
        }
      ]
    },
    {
      "cell_type": "code",
      "source": [
        "def segment_brand(brand):\n",
        "    if pd.isnull(brand):\n",
        "        return 'Unknown'\n",
        "    elif 'Apple' in brand:\n",
        "        return 'Apple'\n",
        "    elif 'Samsung' in brand:\n",
        "        return 'Samsung'\n",
        "    elif 'Fitbit' in brand:\n",
        "        return 'Fitbit'\n",
        "    elif 'Huawei' in brand:\n",
        "        return 'Huawei'\n",
        "    elif 'TicWatch' in brand or 'Ticwatch' in brand:\n",
        "        return 'TicWatch'\n",
        "    elif 'Polar' in brand:\n",
        "        return 'Polar'\n",
        "    elif 'Xiaomi' in brand:\n",
        "        return 'Xiaomi'\n",
        "    elif 'LG' in brand:\n",
        "        return 'LG'\n",
        "    elif 'Casio' in brand:\n",
        "        return 'Casio'\n",
        "    elif 'Moto' in brand or 'Motorola' in brand:\n",
        "        return 'Motorola'\n",
        "    elif 'Sony' in brand:\n",
        "        return 'Sony'\n",
        "    else:\n",
        "        return 'Other'"
      ],
      "metadata": {
        "id": "4qgP84aVd4nY"
      },
      "execution_count": 64,
      "outputs": []
    },
    {
      "cell_type": "code",
      "source": [
        "df['Brand']=df['Brand'].apply(segment_brand)"
      ],
      "metadata": {
        "id": "0cQmpPBnd8rB"
      },
      "execution_count": 65,
      "outputs": []
    },
    {
      "cell_type": "code",
      "source": [
        "plt.figure(figsize=(8,5))\n",
        "df['Brand'].value_counts().plot(kind='bar',color='green')"
      ],
      "metadata": {
        "colab": {
          "base_uri": "https://localhost:8080/",
          "height": 485
        },
        "id": "8QWxKG5VeEr9",
        "outputId": "bc490345-15b2-40a0-bb02-1786f8e20268"
      },
      "execution_count": 67,
      "outputs": [
        {
          "output_type": "execute_result",
          "data": {
            "text/plain": [
              "<Axes: >"
            ]
          },
          "metadata": {},
          "execution_count": 67
        },
        {
          "output_type": "display_data",
          "data": {
            "text/plain": [
              "<Figure size 800x500 with 1 Axes>"
            ],
            "image/png": "[encoded data removed]"
          },
          "metadata": {}
        }
      ]
    },
    {
      "cell_type": "markdown",
      "source": [
        "#Segment the Resolution"
      ],
      "metadata": {
        "id": "bbC2aAzOelwV"
      }
    },
    {
      "cell_type": "code",
      "source": [
        "df['Resolution'].unique()"
      ],
      "metadata": {
        "colab": {
          "base_uri": "https://localhost:8080/"
        },
        "id": "_OQw21nBefRQ",
        "outputId": "2205469e-284b-4f4e-faa0-48f39676bb8b"
      },
      "execution_count": 68,
      "outputs": [
        {
          "output_type": "execute_result",
          "data": {
            "text/plain": [
              "array(['396 x 484', '450 x 450', '416 x 416', '336 x 336', '466 x 466',\n",
              "       '360 x 360', '372 x 430', '454 x 454', nan, '240 x 240',\n",
              "       '390 x 390', '394 x 324', '240 x 201', '368 x 448', '400 x 400',\n",
              "       '324 x 394', '320 x 320', '348 x 442', '402 x 476', '480 x 480',\n",
              "       '176 x 176', '300 x 300', '200 x 200', '280 x 280', '128 x 128',\n",
              "       '240 x 198', '280 x 456', '328 x 328', '960 x 192', '348 x 250',\n",
              "       '320 x 300', '320 x 302', '228 x 172', '160 x 160', '260 x 260',\n",
              "       '126 x 36', '326 x 326'], dtype=object)"
            ]
          },
          "metadata": {},
          "execution_count": 68
        }
      ]
    },
    {
      "cell_type": "code",
      "source": [
        "def segment_resolution(resolution):\n",
        "    if pd.isnull(resolution):\n",
        "        return 'Unknown'\n",
        "    res = resolution.split(' x ')\n",
        "    width = int(res[0])\n",
        "    height = int(res[1])\n",
        "    if width < 200 or height < 200:\n",
        "        return 'Low'\n",
        "    elif width < 400 or height < 400:\n",
        "        return 'Medium'\n",
        "    elif width < 800 or height < 800:\n",
        "        return 'High'\n",
        "    else:\n",
        "        return 'Very high'\n"
      ],
      "metadata": {
        "id": "fJuNVJGqe6yy"
      },
      "execution_count": 69,
      "outputs": []
    },
    {
      "cell_type": "code",
      "source": [
        "df['Resolution']=df['Resolution'].apply(segment_resolution)"
      ],
      "metadata": {
        "id": "OBJY6QazfBb0"
      },
      "execution_count": 70,
      "outputs": []
    },
    {
      "cell_type": "code",
      "source": [
        "plt.figure(figsize=(8,5))\n",
        "df['Resolution'].value_counts().plot(kind='bar',color='purple')"
      ],
      "metadata": {
        "colab": {
          "base_uri": "https://localhost:8080/",
          "height": 485
        },
        "id": "8wL3GDCofLpf",
        "outputId": "1daf2975-77cc-4e2a-a164-989a807c7602"
      },
      "execution_count": 74,
      "outputs": [
        {
          "output_type": "execute_result",
          "data": {
            "text/plain": [
              "<Axes: >"
            ]
          },
          "metadata": {},
          "execution_count": 74
        },
        {
          "output_type": "display_data",
          "data": {
            "text/plain": [
              "<Figure size 800x500 with 1 Axes>"
            ],
            "image/png": "[encoded data removed]"
          },
          "metadata": {}
        }
      ]
    },
    {
      "cell_type": "markdown",
      "source": [
        "#Segment the Battery Life"
      ],
      "metadata": {
        "id": "AJSo43Z6gewt"
      }
    },
    {
      "cell_type": "code",
      "source": [
        "df['Battery Life (days)'].unique()"
      ],
      "metadata": {
        "colab": {
          "base_uri": "https://localhost:8080/"
        },
        "id": "fvuFJ5Brfbv_",
        "outputId": "5b56eda0-0ab6-48fb-97b8-58e41c751814"
      },
      "execution_count": 76,
      "outputs": [
        {
          "output_type": "execute_result",
          "data": {
            "text/plain": [
              "array(['18', '40', '11', '6', '24', '14', '2', '4', '12', '30', '3', '45',\n",
              "       '5', '10', '48', '7', '16', '9', '25', '72', '60', '56', nan, '70',\n",
              "       '1', '48 hours', '15', 'Unlimited', '1.5', '20', '8'], dtype=object)"
            ]
          },
          "metadata": {},
          "execution_count": 76
        }
      ]
    },
    {
      "cell_type": "code",
      "source": [
        "def segment_battery_life(battery_life):\n",
        "    if pd.isnull(battery_life):\n",
        "        return 'Unknown'\n",
        "    elif battery_life == '48 hours':\n",
        "        return '1-10'\n",
        "    elif battery_life == '1.5':\n",
        "        return '1-10'\n",
        "    elif battery_life == 'Unlimited':\n",
        "        return '>30'\n",
        "    else:\n",
        "        try:\n",
        "            days = int(battery_life)\n",
        "            if days >= 1 and days <= 10:\n",
        "                return '1-10'\n",
        "            elif days >= 11 and days <= 20:\n",
        "                return '11-20'\n",
        "            elif days >= 21 and days <= 30:\n",
        "                return '21-30'\n",
        "            else:\n",
        "                return '>30'\n",
        "        except ValueError:\n",
        "            return 'Unknown'"
      ],
      "metadata": {
        "id": "uQ-O-BSGgxxy"
      },
      "execution_count": 77,
      "outputs": []
    },
    {
      "cell_type": "code",
      "source": [
        "df['Battery Life (days)']=df['Battery Life (days)'].apply(segment_battery_life)"
      ],
      "metadata": {
        "id": "7K6yIYkeg5D4"
      },
      "execution_count": 78,
      "outputs": []
    },
    {
      "cell_type": "code",
      "source": [
        "plt.figure(figsize=(8,5))\n",
        "df['Battery Life (days)'].value_counts().plot(kind='bar')"
      ],
      "metadata": {
        "colab": {
          "base_uri": "https://localhost:8080/",
          "height": 485
        },
        "id": "1pskgv_8hIuH",
        "outputId": "1ff53115-a958-4803-de46-6cc71af6a133"
      },
      "execution_count": 80,
      "outputs": [
        {
          "output_type": "execute_result",
          "data": {
            "text/plain": [
              "<Axes: >"
            ]
          },
          "metadata": {},
          "execution_count": 80
        },
        {
          "output_type": "display_data",
          "data": {
            "text/plain": [
              "<Figure size 800x500 with 1 Axes>"
            ],
            "image/png": "[encoded data removed]"
          },
          "metadata": {}
        }
      ]
    },
    {
      "cell_type": "markdown",
      "source": [
        "#Segment the Water resistance(meters)"
      ],
      "metadata": {
        "id": "yR9n5lm6hhwt"
      }
    },
    {
      "cell_type": "code",
      "source": [
        "df['Water Resistance (meters)'].unique()"
      ],
      "metadata": {
        "colab": {
          "base_uri": "https://localhost:8080/"
        },
        "id": "d7eeeKtThZ0D",
        "outputId": "8e92224f-e407-4475-aa7d-9f21e83ddd94"
      },
      "execution_count": 81,
      "outputs": [
        {
          "output_type": "execute_result",
          "data": {
            "text/plain": [
              "array(['50', '30', '100', '1.5', nan, 'Not specified', '200', '10'],\n",
              "      dtype=object)"
            ]
          },
          "metadata": {},
          "execution_count": 81
        }
      ]
    },
    {
      "cell_type": "code",
      "source": [
        "def segment_water_resistance(water_resistance):\n",
        "    if pd.isnull(water_resistance) or water_resistance == 'Not specified':\n",
        "        return 'Unknown'\n",
        "    elif water_resistance == '1.5':\n",
        "        return 'Splash resistant'\n",
        "    else:\n",
        "        depth = int(water_resistance)\n",
        "        if depth >= 0 and depth <= 50:\n",
        "            return '50m or less'\n",
        "        elif depth > 50 and depth <= 100:\n",
        "            return '51m - 100m'\n",
        "        else:\n",
        "            return 'More than 100m'"
      ],
      "metadata": {
        "id": "hLLwazEzh3Of"
      },
      "execution_count": 82,
      "outputs": []
    },
    {
      "cell_type": "code",
      "source": [
        "df['Water Resistance (meters)']=df['Water Resistance (meters)'].apply(segment_water_resistance)"
      ],
      "metadata": {
        "id": "5jXgwdOEh6Pf"
      },
      "execution_count": 83,
      "outputs": []
    },
    {
      "cell_type": "code",
      "source": [
        "plt.figure(figsize=(8,5))\n",
        "df['Water Resistance (meters)'].value_counts().plot(kind='bar')"
      ],
      "metadata": {
        "colab": {
          "base_uri": "https://localhost:8080/",
          "height": 532
        },
        "id": "OUpWlgYziEbt",
        "outputId": "b383c087-3e55-4189-e615-ae43db525122"
      },
      "execution_count": 84,
      "outputs": [
        {
          "output_type": "execute_result",
          "data": {
            "text/plain": [
              "<Axes: >"
            ]
          },
          "metadata": {},
          "execution_count": 84
        },
        {
          "output_type": "display_data",
          "data": {
            "text/plain": [
              "<Figure size 800x500 with 1 Axes>"
            ],
            "image/png": "[encoded data removed]"
          },
          "metadata": {}
        }
      ]
    },
    {
      "cell_type": "code",
      "source": [],
      "metadata": {
        "id": "Xswo20F5iR7F"
      },
      "execution_count": null,
      "outputs": []
    }
  ]
}